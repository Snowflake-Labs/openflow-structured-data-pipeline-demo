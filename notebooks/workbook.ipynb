{
  "cells": [
    {
      "cell_type": "markdown",
      "metadata": {},
      "source": [
        "# Music Flow Verification\n",
        "\n",
        "This notebook allows us to check if the Apache Polaris setup has been successful and we are able to work with the catalog e.g create namespaces, tables etc.,"
      ]
    },
    {
      "cell_type": "markdown",
      "metadata": {},
      "source": [
        "## Imports"
      ]
    },
    {
      "cell_type": "code",
      "execution_count": 1,
      "metadata": {},
      "outputs": [
        {
          "name": "stdout",
          "output_type": "stream",
          "text": [
            "Loaded environment variables from .env file\n"
          ]
        }
      ],
      "source": [
        "import os\n",
        "from dotenv import load_dotenv, find_dotenv\n",
        "\n",
        "\n",
        "if load_dotenv('../.env',interpolate=True):\n",
        "    print(\"Loaded environment variables from .env file\")"
      ]
    },
    {
      "cell_type": "markdown",
      "metadata": {},
      "source": [
        "### Define Variables\n",
        "Let us define some variables for use across the notebook"
      ]
    },
    {
      "cell_type": "code",
      "execution_count": 5,
      "metadata": {},
      "outputs": [
        {
          "name": "stdout",
          "output_type": "stream",
          "text": [
            "Connecting to catalog: music_flow\n",
            "API endpoint: https://npb00565.snowflakecomputing.com/polaris\n",
            "Working with namespace: events\n",
            "Working with table: music_events\n"
          ]
        }
      ],
      "source": [
        "client_id, client_secret = os.getenv(\"OPENCATALOG_CLIENT_ID\"), os.getenv(\"OPENCATALOG_CLIENT_SECRET\")\n",
        "# Catalog details\n",
        "namespace = \"events\"\n",
        "table_name = \"music_events\"\n",
        "CATALOG_URI = f\"{os.getenv(\"OPENCATALOG_API_URL\")}/polaris\"\n",
        "catalog_name = os.getenv(\"OPENCATALOG_CATALOG_NAME\")\n",
        "\n",
        "# Print configuration\n",
        "print(f\"Connecting to catalog: {catalog_name}\")\n",
        "print(f\"API endpoint: {CATALOG_URI}\")\n",
        "print(f\"Working with namespace: {namespace}\")\n",
        "print(f\"Working with table: {table_name}\")"
      ]
    },
    {
      "cell_type": "markdown",
      "metadata": {},
      "source": [
        "## Working with Catalog\n",
        "Let us retrieve the catalog `music_flow` that we created earlier."
      ]
    },
    {
      "cell_type": "code",
      "execution_count": 8,
      "metadata": {},
      "outputs": [
        {
          "name": "stdout",
          "output_type": "stream",
          "text": [
            "\n",
            "Catalog connection established.\n",
            "Listing Namespaces:\n",
            "\n"
          ]
        }
      ],
      "source": [
        "from pyiceberg.catalog.rest import RestCatalog\n",
        "\n",
        "catalog = RestCatalog(\n",
        "    name=catalog_name,\n",
        "    **{\n",
        "        \"uri\": f\"{CATALOG_URI}/api/catalog\",\n",
        "        \"credential\": f\"{client_id}:{client_secret}\",\n",
        "        \"header.content-type\": \"application/vnd.api+json\",\n",
        "        \"header.X-Iceberg-Access-Delegation\": \"vended-credentials\",\n",
        "        \"warehouse\": catalog_name,\n",
        "        \"scope\": \"PRINCIPAL_ROLE:ALL\",\n",
        "    },\n",
        ")\n",
        "print(\"\\nCatalog connection established.\\nListing Namespaces:\\n\")\n",
        "namespaces = catalog.list_namespaces()\n",
        "for ns in namespaces:\n",
        "    print(f\" - {ns}\")"
      ]
    },
    {
      "cell_type": "markdown",
      "metadata": {},
      "source": [
        "## Verify Snowflake Integration"
      ]
    },
    {
      "cell_type": "markdown",
      "metadata": {},
      "source": [
        "## Verify Setup\n",
        "Let us verify the setup by creating a namespace and a table. \n",
        "> NOTE: This will not used for music flow demo, its only to test the setup."
      ]
    },
    {
      "cell_type": "code",
      "execution_count": 10,
      "metadata": {},
      "outputs": [],
      "source": [
        "import pandas as pd \n",
        "\n",
        "import pyarrow as pa\n",
        "from pyiceberg.catalog.rest import RestCatalog\n",
        "from pyiceberg.exceptions import NamespaceAlreadyExistsError, TableAlreadyExistsError\n",
        "import traceback\n",
        "try:\n",
        "    penguins_df = pd.read_csv(\n",
        "        \"https://raw.githubusercontent.com/dataprofessor/data/refs/heads/master/penguins_cleaned.csv\",\n",
        "    )\n",
        "    penguins_table = pa.Table.from_pandas(penguins_df)\n",
        "    wildlife_ns = catalog.create_namespace(\"wildlife\")\n",
        "    p_tbl = catalog.create_table(\n",
        "        identifier=\"wildlife.penguins\",\n",
        "        schema=penguins_table.schema,\n",
        "    )\n",
        "    p_tbl.append(penguins_table)\n",
        "except NamespaceAlreadyExistsError as e:\n",
        "    print(f\"Namespace 'wildlife' already exists: {e}\")\n",
        "except TableAlreadyExistsError as e:\n",
        "    print(f\"Table 'penguins' already exists: {e}\")\n",
        "except Exception:\n",
        "    traceback.print_exc()"
      ]
    },
    {
      "cell_type": "markdown",
      "metadata": {},
      "source": [
        "### Query the data"
      ]
    },
    {
      "cell_type": "code",
      "execution_count": 11,
      "metadata": {},
      "outputs": [
        {
          "data": {
            "text/html": [
              "<div>\n",
              "<style scoped>\n",
              "    .dataframe tbody tr th:only-of-type {\n",
              "        vertical-align: middle;\n",
              "    }\n",
              "\n",
              "    .dataframe tbody tr th {\n",
              "        vertical-align: top;\n",
              "    }\n",
              "\n",
              "    .dataframe thead th {\n",
              "        text-align: right;\n",
              "    }\n",
              "</style>\n",
              "<table border=\"1\" class=\"dataframe\">\n",
              "  <thead>\n",
              "    <tr style=\"text-align: right;\">\n",
              "      <th></th>\n",
              "      <th>species</th>\n",
              "      <th>island</th>\n",
              "      <th>bill_length_mm</th>\n",
              "      <th>bill_depth_mm</th>\n",
              "      <th>flipper_length_mm</th>\n",
              "      <th>body_mass_g</th>\n",
              "      <th>sex</th>\n",
              "    </tr>\n",
              "  </thead>\n",
              "  <tbody>\n",
              "    <tr>\n",
              "      <th>0</th>\n",
              "      <td>Adelie</td>\n",
              "      <td>Torgersen</td>\n",
              "      <td>39.1</td>\n",
              "      <td>18.7</td>\n",
              "      <td>181</td>\n",
              "      <td>3750</td>\n",
              "      <td>male</td>\n",
              "    </tr>\n",
              "    <tr>\n",
              "      <th>1</th>\n",
              "      <td>Adelie</td>\n",
              "      <td>Torgersen</td>\n",
              "      <td>39.5</td>\n",
              "      <td>17.4</td>\n",
              "      <td>186</td>\n",
              "      <td>3800</td>\n",
              "      <td>female</td>\n",
              "    </tr>\n",
              "    <tr>\n",
              "      <th>2</th>\n",
              "      <td>Adelie</td>\n",
              "      <td>Torgersen</td>\n",
              "      <td>40.3</td>\n",
              "      <td>18.0</td>\n",
              "      <td>195</td>\n",
              "      <td>3250</td>\n",
              "      <td>female</td>\n",
              "    </tr>\n",
              "    <tr>\n",
              "      <th>3</th>\n",
              "      <td>Adelie</td>\n",
              "      <td>Torgersen</td>\n",
              "      <td>36.7</td>\n",
              "      <td>19.3</td>\n",
              "      <td>193</td>\n",
              "      <td>3450</td>\n",
              "      <td>female</td>\n",
              "    </tr>\n",
              "    <tr>\n",
              "      <th>4</th>\n",
              "      <td>Adelie</td>\n",
              "      <td>Torgersen</td>\n",
              "      <td>39.3</td>\n",
              "      <td>20.6</td>\n",
              "      <td>190</td>\n",
              "      <td>3650</td>\n",
              "      <td>male</td>\n",
              "    </tr>\n",
              "  </tbody>\n",
              "</table>\n",
              "</div>"
            ],
            "text/plain": [
              "  species     island  bill_length_mm  bill_depth_mm  flipper_length_mm  \\\n",
              "0  Adelie  Torgersen            39.1           18.7                181   \n",
              "1  Adelie  Torgersen            39.5           17.4                186   \n",
              "2  Adelie  Torgersen            40.3           18.0                195   \n",
              "3  Adelie  Torgersen            36.7           19.3                193   \n",
              "4  Adelie  Torgersen            39.3           20.6                190   \n",
              "\n",
              "   body_mass_g     sex  \n",
              "0         3750    male  \n",
              "1         3800  female  \n",
              "2         3250  female  \n",
              "3         3450  female  \n",
              "4         3650    male  "
            ]
          },
          "execution_count": 11,
          "metadata": {},
          "output_type": "execute_result"
        }
      ],
      "source": [
        "p_tbl.scan().to_pandas().head()"
      ]
    },
    {
      "cell_type": "markdown",
      "metadata": {},
      "source": [
        "## Cleanup\n",
        "Clean the test namespace and table\n"
      ]
    },
    {
      "cell_type": "code",
      "execution_count": 12,
      "metadata": {},
      "outputs": [],
      "source": [
        "catalog.drop_table(\"wildlife.penguins\")\n",
        "catalog.drop_namespace(\"wildlife\")"
      ]
    },
    {
      "cell_type": "markdown",
      "metadata": {},
      "source": [
        "## Music Flow Demo"
      ]
    },
    {
      "cell_type": "code",
      "execution_count": null,
      "metadata": {},
      "outputs": [],
      "source": [
        "table = catalog.load_table(f\"{namespace}.{table_name}\".upper())\n",
        "print(table)"
      ]
    },
    {
      "cell_type": "markdown",
      "metadata": {},
      "source": [
        "### View Data\n"
      ]
    },
    {
      "cell_type": "markdown",
      "metadata": {},
      "source": [
        "### All Data\n"
      ]
    },
    {
      "cell_type": "code",
      "execution_count": null,
      "metadata": {},
      "outputs": [],
      "source": [
        "import pandas as pd\n",
        "try:\n",
        "    # Query mixed data through PyIceberg\n",
        "    df = table.scan().to_pandas()\n",
        "\n",
        "except Exception as e:\n",
        "    print(f\"Error loading table: {e}\")\n",
        "df\n"
      ]
    },
    {
      "cell_type": "markdown",
      "metadata": {},
      "source": [
        "### Evolved Data\n"
      ]
    },
    {
      "cell_type": "code",
      "execution_count": null,
      "metadata": {},
      "outputs": [],
      "source": [
        "import pandas as pd\n",
        "try:\n",
        "    baseline_columns = ['artist_name', 'vip_price', 'genre', 'sponsor']\n",
        "    # Query mixed data through PyIceberg\n",
        "    df_mixed = table.scan().to_pandas()\n",
        "\n",
        "    # Show data version analysis\n",
        "    df_mixed['data_version'] = df_mixed['genre'].apply(\n",
        "        lambda x: 'Enhanced Data' if pd.notna(x) else 'Legacy Data'\n",
        "    )\n",
        "    # Display results\n",
        "    baseline_columns_with_version = baseline_columns + ['data_version']\n",
        "except Exception as e:\n",
        "    print(f\"Error loading table: {e}\")\n",
        "df_mixed.head()\n"
      ]
    },
    {
      "cell_type": "markdown",
      "metadata": {},
      "source": [
        "### Data Statistics"
      ]
    },
    {
      "cell_type": "code",
      "execution_count": null,
      "metadata": {},
      "outputs": [],
      "source": [
        "for snapshot in table.snapshots():\n",
        "    print(f\"Snapshot ID: {snapshot.snapshot_id}, Timestamp: {snapshot.timestamp_ms}\")\n",
        "    \n",
        "print(f\"Total Records Loaded: {len(df)}\")"
      ]
    }
  ],
  "metadata": {
    "kernelspec": {
      "display_name": ".venv",
      "language": "python",
      "name": "python3"
    },
    "language_info": {
      "codemirror_mode": {
        "name": "ipython",
        "version": 3
      },
      "file_extension": ".py",
      "mimetype": "text/x-python",
      "name": "python",
      "nbconvert_exporter": "python",
      "pygments_lexer": "ipython3",
      "version": "3.12.10"
    }
  },
  "nbformat": 4,
  "nbformat_minor": 2
}
